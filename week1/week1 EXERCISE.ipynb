{
 "cells": [
  {
   "cell_type": "markdown",
   "id": "fe12c203-e6a6-452c-a655-afb8a03a4ff5",
   "metadata": {},
   "source": [
    "# End of week 1 exercise\n",
    "\n",
    "To demonstrate your familiarity with OpenAI API, and also Ollama, build a tool that takes a technical question,  \n",
    "and responds with an explanation. This is a tool that you will be able to use yourself during the course!"
   ]
  },
  {
   "cell_type": "code",
   "execution_count": 18,
   "id": "c1070317-3ed9-4659-abe3-828943230e03",
   "metadata": {},
   "outputs": [],
   "source": [
    "# imports\n",
    "import os\n",
    "import json\n",
    "import requests\n",
    "from typing import List\n",
    "from dotenv import load_dotenv\n",
    "from bs4 import BeautifulSoup\n",
    "from IPython.display import Markdown, display, update_display\n",
    "from openai import OpenAI"
   ]
  },
  {
   "cell_type": "code",
   "execution_count": 55,
   "id": "4a456906-915a-4bfd-bb9d-57e505c5093f",
   "metadata": {},
   "outputs": [],
   "source": [
    "# constants\n",
    "\n",
    "MODEL = 'gpt-4o-mini'\n",
    "# MODEL = 'llama3.2'"
   ]
  },
  {
   "cell_type": "code",
   "execution_count": 24,
   "id": "a8d7923c-5f28-4c30-8556-342d7c8497c1",
   "metadata": {},
   "outputs": [
    {
     "name": "stdout",
     "output_type": "stream",
     "text": [
      "Keys are not available\n",
      "sk-pro**************************************************************************************************************************************************************\n"
     ]
    }
   ],
   "source": [
    "# set up environment\n",
    "load_dotenv(override=True)\n",
    "api_key=os.getenv(\"OPENAI_API_KEY\")\n",
    "if api_key:\n",
    "    print(\"Keys are not available\")\n",
    "    print(api_key[:6] + \"*\" * (len(api_key) - 6))\n",
    "else:\n",
    "    print(\"API keys are not setup in .env\")\n"
   ]
  },
  {
   "cell_type": "code",
   "execution_count": 15,
   "id": "3f0d0137-52b0-47a8-81a8-11a90a010798",
   "metadata": {},
   "outputs": [],
   "source": [
    "# here is the question; type over this to ask something new\n",
    "\n",
    "question = \"\"\"\n",
    "This is to review the technical document of any integration and come up with the help guide. This will help organization to know if the\n",
    "vendor is suitable for their use case or not. \n",
    "\n",
    "For example if a vendor is to be used for payout. We need have following:-\n",
    "1. Authorization\n",
    "2. Payee/Beneficiary addition\n",
    "3. Bank Add/Bank withdrawl OR crypto withdrawl\n",
    "4. Status check\n",
    "5. Webhook\n",
    "6. Fee configuration\n",
    "\"\"\""
   ]
  },
  {
   "cell_type": "code",
   "execution_count": 38,
   "id": "60ce7000-a4a5-4cce-a261-e75ef45063b4",
   "metadata": {},
   "outputs": [],
   "source": [
    "# Get gpt-4o-mini to answer, with streaming\n",
    "openai = OpenAI()\n",
    "# Some websites need you to use proper headers when fetching them:\n",
    "headers = {\n",
    " \"User-Agent\": \"Mozilla/5.0 (Windows NT 10.0; Win64; x64) AppleWebKit/537.36 (KHTML, like Gecko) Chrome/117.0.0.0 Safari/537.36\"\n",
    "}\n",
    "class WebsiteReview:\n",
    "    \"\"\"\n",
    "    A utility class to extract website technical documents\n",
    "    \"\"\"\n",
    "    def __init__(self, url):\n",
    "        self.url = url\n",
    "        response = requests.get(url, headers=headers)\n",
    "        #print(response.content)\n",
    "        self.body = response.content\n",
    "        soup = BeautifulSoup(self.body, 'html.parser')\n",
    "        # print(soup.prettify())\n",
    "        # print(soup.title.string)\n",
    "        self.title = soup.title.string if soup.title else \"No title found\"\n",
    "        if soup.body:\n",
    "            for irrelevant in soup.body([\"script\", \"style\", \"img\", \"input\"]):\n",
    "                irrelevant.decompose()\n",
    "            self.text = soup.body.get_text(separator=\"\\n\", strip=True)\n",
    "        else:\n",
    "            self.text = \"\"\n",
    "        links = [link.get('href') for link in soup.find_all('a')]\n",
    "        self.links = [link for link in links if link]\n",
    "\n",
    "    def get_contents(self):\n",
    "        return f\"Webpage Title:\\n{self.title}\\nWebpage Contents:\\n{self.text}\\n\\n\"\n",
    "\n",
    "    "
   ]
  },
  {
   "cell_type": "code",
   "execution_count": 64,
   "id": "4a0a8234-bac2-4426-9e46-9227c80356e5",
   "metadata": {},
   "outputs": [],
   "source": [
    "system_prompt = \"You are provided with a list of links found on a techncial integratation webpage. \\\n",
    "You are able to decide which of the links would be most relevant to go through for integrating vendor as a payout provider, \\\n",
    "such as links to an Authorization page, or a Beneficiary KYC and KYB, or Bank addition page or crypto/bank transfer page.\\n\"\n",
    "system_prompt += \"You should respond in JSON as in this example:\"\n",
    "system_prompt += \"\"\"\n",
    "{\n",
    "    \"links\": [\n",
    "        {\"type\": \"about page\", \"url\": \"https://full.url/goes/here/about\"},\n",
    "        {\"type\": \"careers page\": \"url\": \"https://another.full.url/careers\"}\n",
    "    ]\n",
    "}\n",
    "\"\"\""
   ]
  },
  {
   "cell_type": "code",
   "execution_count": 71,
   "id": "e053b2ad-f245-4533-af31-21c77f471d11",
   "metadata": {},
   "outputs": [],
   "source": [
    "def get_links_user_prompt(website):\n",
    "    user_prompt = f\"Here is the list of links on the website of {website.url} - \"\n",
    "    user_prompt += \"please decide which of these are relevant web links for integration as payout vendor, respond with the full https URL in JSON format. \\\n",
    "Do not include Terms of Service, Privacy, email links.\\n\"\n",
    "    user_prompt += \"Links (some might be relative links):\\n\"\n",
    "    user_prompt += \"\\n\".join(website.links)\n",
    "    return user_prompt"
   ]
  },
  {
   "cell_type": "code",
   "execution_count": 72,
   "id": "a8fcb9c5-ded1-4518-bf2d-1fd28886fcbe",
   "metadata": {},
   "outputs": [],
   "source": [
    "# print(get_links_user_prompt(techWebsite))\n",
    "def ai_link_filter(url):\n",
    "    website = WebsiteReview(url)\n",
    "    response = openai.chat.completions.create(\n",
    "        model=MODEL,\n",
    "        messages=[\n",
    "            {\"role\": \"system\", \"content\": link_system_prompt},\n",
    "            {\"role\": \"user\", \"content\": get_links_user_prompt(website)}\n",
    "      ],\n",
    "        response_format={\"type\": \"json_object\"}\n",
    "    )\n",
    "    result = response.choices[0].message.content\n",
    "    return json.loads(result)\n",
    "    \n",
    "def get_links_content(url):\n",
    "    result = \"Landing page:\\n\"\n",
    "    result += WebsiteReview(url).get_contents()\n",
    "    links = ai_link_filter(url)\n",
    "    # print(\"Found links:\", links)\n",
    "    for link in links[\"links\"]:\n",
    "        result += f\"\\n\\n{link['type']}\\n\"\n",
    "        result += WebsiteReview(link[\"url\"]).get_contents()\n",
    "    return result\n",
    "\n",
    "def get_technical_review_user_prompt(company_name, url):\n",
    "    user_prompt = f\"You are looking at a company called: {company_name}\\n\"\n",
    "    user_prompt += f\"Here are the contents of its technical integration and other relevant pages; use this information to build a short step by step technical integration summary in markdown.\\n\"\n",
    "    user_prompt += get_links_content(url)\n",
    "    user_prompt = user_prompt[:5_000] # Truncate if more than 5,000 characters\n",
    "    return user_prompt"
   ]
  },
  {
   "cell_type": "code",
   "execution_count": 73,
   "id": "135ca2cc-6f10-4744-af14-8b6f9dcd3d92",
   "metadata": {},
   "outputs": [
    {
     "name": "stdout",
     "output_type": "stream",
     "text": [
      "Found links: {'links': [{'type': 'payout overview', 'url': 'https://docs.rocketfuelblockchain.com/developer-guides/api-reference/payout/overview'}, {'type': 'add payee', 'url': 'https://docs.rocketfuelblockchain.com/developer-guides/api-reference/payout/add-payee'}, {'type': 'payout api guide', 'url': 'https://docs.rocketfuelblockchain.com/developer-guides/api-reference/payout/api-guide'}, {'type': 'payout webhooks', 'url': 'https://docs.rocketfuelblockchain.com/developer-guides/api-reference/payout/webhooks'}, {'type': 'KYC verification', 'url': 'https://docs.rocketfuelblockchain.com/integrations/rocketfuel-integration/how-to-guide/kyc-verification'}, {'type': 'bank ACH payments user guide', 'url': 'https://docs.rocketfuelblockchain.com/user-guide-and-help-videos/merchant-user-guide/bank-ach-payments'}, {'type': 'bank ACH payments shopper user guide', 'url': 'https://docs.rocketfuelblockchain.com/user-guide-and-help-videos/shopper-user-guide/bank-ach-payments'}, {'type': 'merchant onboarding document certification', 'url': 'https://docs.rocketfuelblockchain.com/user-guide-and-help-videos/aci-merchant-onboarding-document-certification'}]}\n"
     ]
    },
    {
     "data": {
      "text/markdown": [
       "```json\n",
       "{\n",
       "    \"links\": [\n",
       "        {\"type\": \"Payout Overview\", \"url\": \"https://rocketfuel.com/payout/overview\"},\n",
       "        {\"type\": \"Add Payee\", \"url\": \"https://rocketfuel.com/payout/add-payee\"},\n",
       "        {\"type\": \"KYC Verification\", \"url\": \"https://rocketfuel.com/integration/kyc-verification\"},\n",
       "        {\"type\": \"API Guide\", \"url\": \"https://rocketfuel.com/payout/api-guide\"},\n",
       "        {\"type\": \"Webhooks\", \"url\": \"https://rocketfuel.com/payout/webhooks\"},\n",
       "        {\"type\": \"RocketFuel Integration\", \"url\": \"https://rocketfuel.com/integration/overview\"},\n",
       "        {\"type\": \"How to Use Testnet for Transactions\", \"url\": \"https://rocketfuel.com/integration/testnet\"}\n",
       "    ]\n",
       "}\n",
       "```"
      ],
      "text/plain": [
       "<IPython.core.display.Markdown object>"
      ]
     },
     "metadata": {},
     "output_type": "display_data"
    }
   ],
   "source": [
    "def create_tech_summary(company_name, url):\n",
    "    response = openai.chat.completions.create(\n",
    "        model=MODEL,\n",
    "        messages=[\n",
    "            {\"role\": \"system\", \"content\": system_prompt},\n",
    "            {\"role\": \"user\", \"content\": get_technical_review_user_prompt(company_name, url)}\n",
    "          ],\n",
    "    )\n",
    "    result = response.choices[0].message.content\n",
    "    display(Markdown(result))\n",
    "    \n",
    "create_tech_summary(\"Rocketfuel\", \"https://docs.rocketfuelblockchain.com/\")"
   ]
  },
  {
   "cell_type": "code",
   "execution_count": null,
   "id": "8f7c8ea8-4082-4ad0-8751-3301adcf6538",
   "metadata": {
    "jupyter": {
     "source_hidden": true
    }
   },
   "outputs": [],
   "source": [
    "# Get Llama 3.2 to answer"
   ]
  }
 ],
 "metadata": {
  "kernelspec": {
   "display_name": "Python 3 (ipykernel)",
   "language": "python",
   "name": "python3"
  },
  "language_info": {
   "codemirror_mode": {
    "name": "ipython",
    "version": 3
   },
   "file_extension": ".py",
   "mimetype": "text/x-python",
   "name": "python",
   "nbconvert_exporter": "python",
   "pygments_lexer": "ipython3",
   "version": "3.11.13"
  }
 },
 "nbformat": 4,
 "nbformat_minor": 5
}
